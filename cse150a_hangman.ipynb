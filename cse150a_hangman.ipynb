{
  "cells": [
    {
      "cell_type": "code",
      "execution_count": 2,
      "metadata": {
        "colab": {
          "base_uri": "https://localhost:8080/"
        },
        "id": "shW_Rpjdu4tC",
        "outputId": "5df1e234-8dd4-4b0e-ea65-8d50877dceef"
      },
      "outputs": [
        {
          "output_type": "stream",
          "name": "stdout",
          "text": [
            "fatal: destination path 'hw1' already exists and is not an empty directory.\n"
          ]
        }
      ],
      "source": [
        "# If cloning is needed -- i.e., if hangman.py and word counts are not already\n",
        "# available in file, you can run this\n",
        "!git clone https://github.com/ucsd-cse150a-w25/hw1.git\n",
        "!cp hw1/hangman.py hangman.py\n",
        "!cp hw1/hw1_word_counts_05.txt hw1_word_counts_05.txt"
      ]
    },
    {
      "cell_type": "code",
      "execution_count": 3,
      "metadata": {
        "colab": {
          "base_uri": "https://localhost:8080/",
          "height": 0
        },
        "id": "HoJUA1omu4tD",
        "outputId": "f865fa68-560e-42dd-9bed-2dab9aee94b9"
      },
      "outputs": [
        {
          "output_type": "stream",
          "name": "stdout",
          "text": [
            "\n",
            "\n",
            "  +---+\n",
            "  O   |\n",
            " /|\\  |\n",
            " / \\  |\n",
            "     ===\n",
            "\n",
            "Word: I _ _ E _\n",
            "Tried letters: A, E, I, O, R, S, T, W\n",
            "Game over! The word was:  INDEX\n"
          ]
        },
        {
          "output_type": "execute_result",
          "data": {
            "text/plain": [
              "0"
            ]
          },
          "metadata": {},
          "execution_count": 3
        }
      ],
      "source": [
        "from hangman import hangman_game\n",
        "\n",
        "# Play the game by yourself\n",
        "hangman_game()"
      ]
    },
    {
      "cell_type": "code",
      "execution_count": 6,
      "metadata": {
        "colab": {
          "base_uri": "https://localhost:8080/",
          "height": 0
        },
        "id": "Hn9tUjyou4tD",
        "outputId": "8605b61d-81f9-4fb1-c9d6-70a73a8daeb5"
      },
      "outputs": [
        {
          "output_type": "stream",
          "name": "stdout",
          "text": [
            "\n",
            "\n",
            "  +---+\n",
            "  O   |\n",
            " /|\\  |\n",
            " / \\  |\n",
            "     ===\n",
            "\n",
            "Word: _ _ _ _ S\n",
            "Tried letters: B, G, I, J, P, S, U\n",
            "Game over! The word was:  RATES\n"
          ]
        },
        {
          "output_type": "execute_result",
          "data": {
            "text/plain": [
              "0"
            ]
          },
          "metadata": {},
          "execution_count": 6
        }
      ],
      "source": [
        "import random\n",
        "\n",
        "def random_inference(\n",
        "    letters_tried: set[str],\n",
        "    word_pattern: list[str],\n",
        "    word_counts: dict[str, int]\n",
        ") -> str:\n",
        "    '''\n",
        "    Random inference for playing hangman. This should be a simple method which returns a letter\n",
        "    that is NOT in letters_tried but any other letter, at random.\n",
        "\n",
        "    Hint: use the random.choice method\n",
        "    '''\n",
        "    # TODO: Implement random inference code to guess hangman\n",
        "    alphabet = set(\"ABCDEFGHIJKLMNOPQRSTUVWXYZ\")\n",
        "    remaining_letters = list(alphabet - letters_tried)\n",
        "    return random.choice(remaining_letters) if remaining_letters else ''\n",
        "\n",
        "hangman_game(random_inference)"
      ]
    },
    {
      "cell_type": "code",
      "execution_count": 13,
      "metadata": {
        "id": "CGmWBdsXM4cN",
        "colab": {
          "base_uri": "https://localhost:8080/"
        },
        "outputId": "5f3a4e49-b604-4429-c2d8-7e81ac4b146c"
      },
      "outputs": [
        {
          "output_type": "stream",
          "name": "stdout",
          "text": [
            "\n",
            "\n",
            "  +---+\n",
            "  O   |\n",
            " /|\\  |\n",
            " / \\  |\n",
            "     ===\n",
            "\n",
            "Word: Y E _ _ S\n",
            "Tried letters: C, D, E, I, J, P, S, X, Y\n",
            "Game over! The word was:  YEARS\n"
          ]
        },
        {
          "output_type": "execute_result",
          "data": {
            "text/plain": [
              "0"
            ]
          },
          "metadata": {},
          "execution_count": 13
        }
      ],
      "source": [
        "import collections\n",
        "\n",
        "def bayesian_inference(\n",
        "    letters_tried: set[str],\n",
        "    word_pattern: list[str],\n",
        "    word_counts: dict[str, int]\n",
        ") -> str:\n",
        "    '''\n",
        "    Bayesian inference method for playing hangman. The parameters given are as follows:\n",
        "\n",
        "    - letters_tried (set[str]): A set of strings which consist of all the letters that have already\n",
        "        been tried. For example, if 'A', 'E' has been guessed, `letters_tried = {'A', 'E'}`\n",
        "    - word_pattern (list[str]): A list of single characters that describe the current guess state.\n",
        "        For example, if the hangman state is _AB__, `word_pattern = ['_', 'A', 'B', '_', '_']`\n",
        "    - word_counts (dict[str, int]): The word counts dictionary which contains all possible 5 letter\n",
        "        words in our hangman game and their respective counts. For example, a key value pair could\n",
        "        be 'AARON': 413.\n",
        "\n",
        "    Return type: a single character string as your next best guess.\n",
        "    '''\n",
        "    # TODO: Implement inference code to play hangman optimally\n",
        "    possible_words = {\n",
        "        word: count for word, count in word_counts.items()\n",
        "        if all(\n",
        "            (char == '_' or word[i] == char)\n",
        "            and (char == '_' or word[i] not in letters_tried)\n",
        "            for i, char in enumerate(word_pattern)\n",
        "        )\n",
        "    }\n",
        "\n",
        "    letter_frequencies = collections.Counter()\n",
        "    for word, count in possible_words.items():\n",
        "        for i, letter in enumerate(word):\n",
        "            if word_pattern[i] == '_' and letter not in letters_tried:\n",
        "                letter_frequencies[letter] += count\n",
        "\n",
        "    if letter_frequencies:\n",
        "        return max(letter_frequencies, key=letter_frequencies.get)\n",
        "\n",
        "    remaining_letters = list(set(\"ABCDEFGHIJKLMNOPQRSTUVWXYZ\") - letters_tried)\n",
        "    return random.choice(remaining_letters) if remaining_letters else 'E'\n",
        "\n",
        "# Run the game\n",
        "hangman_game(bayesian_inference)"
      ]
    },
    {
      "cell_type": "code",
      "execution_count": 1,
      "metadata": {
        "colab": {
          "base_uri": "https://localhost:8080/",
          "height": 251
        },
        "id": "WZfwgb8Su4tE",
        "outputId": "2f026ccc-ff82-4944-b203-d4b68ed54099"
      },
      "outputs": [
        {
          "output_type": "error",
          "ename": "NameError",
          "evalue": "name 'random_inference' is not defined",
          "traceback": [
            "\u001b[0;31m---------------------------------------------------------------------------\u001b[0m",
            "\u001b[0;31mNameError\u001b[0m                                 Traceback (most recent call last)",
            "\u001b[0;32m<ipython-input-1-84eb6b46f792>\u001b[0m in \u001b[0;36m<cell line: 0>\u001b[0;34m()\u001b[0m\n\u001b[1;32m     46\u001b[0m     \u001b[0mprint\u001b[0m\u001b[0;34m(\u001b[0m\u001b[0;34mf\"{inference.__name__} Accuracy: {successes}/{num_runs} ({accuracy:.2f}%)\"\u001b[0m\u001b[0;34m)\u001b[0m\u001b[0;34m\u001b[0m\u001b[0;34m\u001b[0m\u001b[0m\n\u001b[1;32m     47\u001b[0m \u001b[0;34m\u001b[0m\u001b[0m\n\u001b[0;32m---> 48\u001b[0;31m \u001b[0mbenchmark\u001b[0m\u001b[0;34m(\u001b[0m\u001b[0mrandom_inference\u001b[0m\u001b[0;34m)\u001b[0m\u001b[0;34m\u001b[0m\u001b[0;34m\u001b[0m\u001b[0m\n\u001b[0m\u001b[1;32m     49\u001b[0m \u001b[0mbenchmark\u001b[0m\u001b[0;34m(\u001b[0m\u001b[0mbayesian_inference\u001b[0m\u001b[0;34m)\u001b[0m\u001b[0;34m\u001b[0m\u001b[0;34m\u001b[0m\u001b[0m\n",
            "\u001b[0;31mNameError\u001b[0m: name 'random_inference' is not defined"
          ]
        }
      ],
      "source": [
        "from typing import Optional, Callable\n",
        "from tqdm import tqdm\n",
        "import time\n",
        "\n",
        "def benchmark(\n",
        "    inference: Optional[Callable],\n",
        "    num_runs: int = 1000,\n",
        "    seed: int = 0,\n",
        "    timeout: float = 5.0\n",
        ") -> None:\n",
        "    '''\n",
        "    Benchmark method for testing out the bayesian inference method. The parameters given are:\n",
        "\n",
        "    - inference: The function that should match the bayesian_inference() method above.\n",
        "    - seed: The seed to pass into the hangman_game function.\n",
        "\n",
        "    Return type: none.\n",
        "\n",
        "    Print the accuracy out of num_runs. If the function throws an error, it should count as a fail.\n",
        "    '''\n",
        "    # TODO: Implement benchmark testing for a given function\n",
        "    # Hint: use `random.seed(seed)` ONCE at the start\n",
        "    # Hint: pass `interactive = False` into the hangman_game function to run faster without outputs.\n",
        "    # Optional: use the `tqdm` module to keep track of the evaluation progress.\n",
        "\n",
        "    random.seed(seed)\n",
        "    successes = 0\n",
        "\n",
        "    for i in tqdm(range(num_runs), desc=f\"Benchmarking {inference.__name__}\"):\n",
        "        try:\n",
        "            start_time = time.time()\n",
        "            success = hangman_game(inference, interactive=False)\n",
        "            elapsed_time = time.time() - start_time\n",
        "\n",
        "            if elapsed_time > timeout:\n",
        "                print(f\"Timeout: Game {i+1} took {elapsed_time:.2f}s. Skipping...\")\n",
        "                continue\n",
        "\n",
        "            if success:\n",
        "                successes += 1\n",
        "\n",
        "        except Exception as e:\n",
        "            print(f\"Error in game {i+1}: {e}\")\n",
        "\n",
        "    accuracy = (successes / num_runs) * 100\n",
        "    print(f\"{inference.__name__} Accuracy: {successes}/{num_runs} ({accuracy:.2f}%)\")\n",
        "\n",
        "benchmark(random_inference)\n",
        "benchmark(bayesian_inference)"
      ]
    }
  ],
  "metadata": {
    "colab": {
      "provenance": []
    },
    "kernelspec": {
      "display_name": "Python 3",
      "name": "python3"
    },
    "language_info": {
      "codemirror_mode": {
        "name": "ipython",
        "version": 3
      },
      "file_extension": ".py",
      "mimetype": "text/x-python",
      "name": "python",
      "nbconvert_exporter": "python",
      "pygments_lexer": "ipython3",
      "version": "3.11.0"
    }
  },
  "nbformat": 4,
  "nbformat_minor": 0
}