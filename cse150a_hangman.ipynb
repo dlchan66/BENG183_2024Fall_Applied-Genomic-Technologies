{
  "cells": [
    {
      "cell_type": "code",
      "execution_count": 3,
      "metadata": {
        "colab": {
          "base_uri": "https://localhost:8080/"
        },
        "id": "shW_Rpjdu4tC",
        "outputId": "4785bac6-c398-475a-f675-a345d7d210d5"
      },
      "outputs": [
        {
          "output_type": "stream",
          "name": "stdout",
          "text": [
            "fatal: destination path 'hw1' already exists and is not an empty directory.\n"
          ]
        }
      ],
      "source": [
        "# If cloning is needed -- i.e., if hangman.py and word counts are not already\n",
        "# available in file, you can run this\n",
        "!git clone https://github.com/ucsd-cse150a-w25/hw1.git\n",
        "!cp hw1/hangman.py hangman.py\n",
        "!cp hw1/hw1_word_counts_05.txt hw1_word_counts_05.txt"
      ]
    },
    {
      "cell_type": "code",
      "execution_count": 4,
      "metadata": {
        "colab": {
          "base_uri": "https://localhost:8080/"
        },
        "id": "HoJUA1omu4tD",
        "outputId": "ef372228-0ef9-4170-a016-8f9f8b78395a"
      },
      "outputs": [
        {
          "output_type": "stream",
          "name": "stdout",
          "text": [
            "\n",
            "\n",
            "  +---+\n",
            "  O   |\n",
            " /|\\  |\n",
            " / \\  |\n",
            "     ===\n",
            "\n",
            "Word: _ _ _ C _\n",
            "Tried letters: A, B, C, D, E, F, G\n",
            "Game over! The word was:  WHICH\n"
          ]
        },
        {
          "output_type": "execute_result",
          "data": {
            "text/plain": [
              "0"
            ]
          },
          "metadata": {},
          "execution_count": 4
        }
      ],
      "source": [
        "from hangman import hangman_game\n",
        "\n",
        "# Play the game by yourself\n",
        "hangman_game()"
      ]
    },
    {
      "cell_type": "code",
      "execution_count": 5,
      "metadata": {
        "colab": {
          "base_uri": "https://localhost:8080/"
        },
        "id": "Hn9tUjyou4tD",
        "outputId": "f2d92159-f146-4f01-dbe3-96278e69d6a2"
      },
      "outputs": [
        {
          "output_type": "stream",
          "name": "stdout",
          "text": [
            "\n",
            "\n",
            "  +---+\n",
            "  O   |\n",
            " /|\\  |\n",
            " / \\  |\n",
            "     ===\n",
            "\n",
            "Word: O _ _ _ _\n",
            "Tried letters: C, F, O, R, U, X, Y\n",
            "Game over! The word was:  OPENS\n"
          ]
        },
        {
          "output_type": "execute_result",
          "data": {
            "text/plain": [
              "0"
            ]
          },
          "metadata": {},
          "execution_count": 5
        }
      ],
      "source": [
        "import random\n",
        "\n",
        "def random_inference(\n",
        "    letters_tried: set[str],\n",
        "    word_pattern: list[str],\n",
        "    word_counts: dict[str, int]\n",
        ") -> str:\n",
        "    '''\n",
        "    Random inference for playing hangman. This should be a simple method which returns a letter\n",
        "    that is NOT in letters_tried but any other letter, at random.\n",
        "\n",
        "    Hint: use the random.choice method\n",
        "    '''\n",
        "    # TODO: Implement random inference code to guess hangman\n",
        "    alphabet = set(\"ABCDEFGHIJKLMNOPQRSTUVWXYZ\")\n",
        "    remaining_letters = list(alphabet - letters_tried)\n",
        "    return random.choice(remaining_letters) if remaining_letters else ''\n",
        "\n",
        "hangman_game(random_inference)"
      ]
    },
    {
      "cell_type": "code",
      "execution_count": 8,
      "metadata": {
        "id": "CGmWBdsXM4cN",
        "colab": {
          "base_uri": "https://localhost:8080/"
        },
        "outputId": "b02d9486-1837-43a3-e595-51e99f3f01a7"
      },
      "outputs": [
        {
          "output_type": "stream",
          "name": "stdout",
          "text": [
            "\n",
            "\n",
            "  +---+\n",
            "  O   |\n",
            "      |\n",
            "      |\n",
            "     ===\n",
            "\n",
            "Word: A B O U T\n",
            "Tried letters: A, B, E, O, T, U\n",
            "Congratulations! You guessed the word:  ABOUT\n"
          ]
        },
        {
          "output_type": "execute_result",
          "data": {
            "text/plain": [
              "1"
            ]
          },
          "metadata": {},
          "execution_count": 8
        }
      ],
      "source": [
        "import collections\n",
        "import numpy as np\n",
        "\n",
        "def bayesian_inference(\n",
        "    letters_tried: set[str],\n",
        "    word_pattern: list[str],\n",
        "    word_counts: dict[str, int]\n",
        ") -> str:\n",
        "    '''\n",
        "    Bayesian inference method for playing hangman. The parameters given are as follows:\n",
        "\n",
        "    - letters_tried (set[str]): A set of strings which consist of all the letters that have already\n",
        "        been tried. For example, if 'A', 'E' has been guessed, `letters_tried = {'A', 'E'}`\n",
        "    - word_pattern (list[str]): A list of single characters that describe the current guess state.\n",
        "        For example, if the hangman state is _AB__, `word_pattern = ['_', 'A', 'B', '_', '_']`\n",
        "    - word_counts (dict[str, int]): The word counts dictionary which contains all possible 5 letter\n",
        "        words in our hangman game and their respective counts. For example, a key value pair could\n",
        "        be 'AARON': 413.\n",
        "\n",
        "    Return type: a single character string as your next best guess.\n",
        "    '''\n",
        "    # TODO: Implement inference code to play hangman optimally\n",
        "    valid_words = {\n",
        "        word: count\n",
        "        for word, count in word_counts.items()\n",
        "        if all((word[i] == word_pattern[i] or word_pattern[i] == '_') for i in range(5))\n",
        "        and all(letter not in word for letter in letters_tried if letter not in word_pattern)\n",
        "    }\n",
        "\n",
        "    total_valid_count = sum(valid_words.values())\n",
        "    posterior_probs = {\n",
        "        word: count / total_valid_count for word, count in valid_words.items()\n",
        "    }\n",
        "\n",
        "    letter_probs = collections.defaultdict(float)\n",
        "\n",
        "    for word, prob in posterior_probs.items():\n",
        "        for i, letter in enumerate(word):\n",
        "            if word_pattern[i] == '_' and letter not in letters_tried:\n",
        "                letter_probs[letter] += prob\n",
        "\n",
        "    if letter_probs:\n",
        "        return max(letter_probs, key=letter_probs.get)\n",
        "    else:\n",
        "        return np.random.choice([l for l in \"ABCDEFGHIJKLMNOPQRSTUVWXYZ\" if l not in letters_tried])\n",
        "\n",
        "\n",
        "# Run the game\n",
        "hangman_game(bayesian_inference)"
      ]
    },
    {
      "cell_type": "code",
      "execution_count": 10,
      "metadata": {
        "colab": {
          "base_uri": "https://localhost:8080/"
        },
        "id": "WZfwgb8Su4tE",
        "outputId": "334ef45c-7dd7-4d2d-e8e5-b315465dcdfb"
      },
      "outputs": [
        {
          "output_type": "stream",
          "name": "stdout",
          "text": [
            "Accuracy: 0.40% over 1000 runs\n",
            "Accuracy: 93.00% over 1000 runs\n"
          ]
        }
      ],
      "source": [
        "from typing import Optional, Callable\n",
        "# from tqdm import tqdm\n",
        "\n",
        "def benchmark(\n",
        "    inference: Optional[Callable],\n",
        "    num_runs: int = 1000,\n",
        "    seed: int = 0\n",
        ") -> None:\n",
        "    '''\n",
        "    Benchmark method for testing out the bayesian inference method. The parameters given are:\n",
        "\n",
        "    - inference: The function that should match the bayesian_inference() method above.\n",
        "    - seed: The seed to pass into the hangman_game function.\n",
        "\n",
        "    Return type: none.\n",
        "\n",
        "    Print the accuracy out of num_runs. If the function throws an error, it should count as a fail.\n",
        "    '''\n",
        "    # TODO: Implement benchmark testing for a given function\n",
        "    # Hint: use `random.seed(seed)` ONCE at the start\n",
        "    # Hint: pass `interactive = False` into the hangman_game function to run faster without outputs.\n",
        "    # Optional: use the `tqdm` module to keep track of the evaluation progress.\n",
        "\n",
        "    random.seed(seed)\n",
        "    successes = 0\n",
        "\n",
        "    for _ in range(num_runs):\n",
        "        try:\n",
        "            result = hangman_game(inference, interactive=False)\n",
        "            if result:\n",
        "                successes += 1\n",
        "        except Exception:\n",
        "            pass\n",
        "\n",
        "    accuracy = (successes / num_runs) * 100\n",
        "    print(f\"{inference.__name__} Accuracy: {accuracy:.2f}% over {num_runs} runs\")\n",
        "\n",
        "\n",
        "benchmark(random_inference)\n",
        "benchmark(bayesian_inference)"
      ]
    }
  ],
  "metadata": {
    "colab": {
      "provenance": []
    },
    "kernelspec": {
      "display_name": "Python 3",
      "name": "python3"
    },
    "language_info": {
      "codemirror_mode": {
        "name": "ipython",
        "version": 3
      },
      "file_extension": ".py",
      "mimetype": "text/x-python",
      "name": "python",
      "nbconvert_exporter": "python",
      "pygments_lexer": "ipython3",
      "version": "3.11.0"
    }
  },
  "nbformat": 4,
  "nbformat_minor": 0
}